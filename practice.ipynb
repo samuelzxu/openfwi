{
 "cells": [
  {
   "cell_type": "code",
   "execution_count": 28,
   "id": "f65410b9",
   "metadata": {},
   "outputs": [
    {
     "data": {
      "text/plain": [
       "array([[[ 1.,  2.,  3.,  4.,  5.,  6.,  7.,  8.,  9., 10.],\n",
       "        [11., 12., 13., 14., 15., 16., 17., 18., 19., 20.]],\n",
       "\n",
       "       [[11., 12., 13., 14., 15., 16., 17., 18., 19., 20.],\n",
       "        [21., 22., 23., 24., 25., 26., 27., 28., 29., 30.]],\n",
       "\n",
       "       [[21., 22., 23., 24., 25., 26., 27., 28., 29., 30.],\n",
       "        [31., 32., 33., 34., 35., 36., 37., 38., 39., 40.]]])"
      ]
     },
     "execution_count": 28,
     "metadata": {},
     "output_type": "execute_result"
    }
   ],
   "source": [
    "import numpy as np\n",
    "\n",
    "x = np.array([np.linspace(1,10,10), np.linspace(11,20,10)])\n",
    "z = np.array([x,x+10,x+20])\n",
    "z"
   ]
  },
  {
   "cell_type": "code",
   "execution_count": 30,
   "id": "ea60d1fc",
   "metadata": {},
   "outputs": [
    {
     "data": {
      "text/plain": [
       "tensor([[[21., 22., 23., 24., 25., 26., 27., 28., 29., 30.],\n",
       "         [31., 32., 33., 34., 35., 36., 37., 38., 39., 40.]],\n",
       "\n",
       "        [[11., 12., 13., 14., 15., 16., 17., 18., 19., 20.],\n",
       "         [21., 22., 23., 24., 25., 26., 27., 28., 29., 30.]],\n",
       "\n",
       "        [[ 1.,  2.,  3.,  4.,  5.,  6.,  7.,  8.,  9., 10.],\n",
       "         [11., 12., 13., 14., 15., 16., 17., 18., 19., 20.]]])"
      ]
     },
     "execution_count": 30,
     "metadata": {},
     "output_type": "execute_result"
    }
   ],
   "source": [
    "import torch\n",
    "zt = torch.tensor(z, dtype=torch.float32)\n",
    "zt = torch.flip(zt, dims=[0])\n",
    "zt"
   ]
  }
 ],
 "metadata": {
  "kernelspec": {
   "display_name": "aimo",
   "language": "python",
   "name": "python3"
  },
  "language_info": {
   "codemirror_mode": {
    "name": "ipython",
    "version": 3
   },
   "file_extension": ".py",
   "mimetype": "text/x-python",
   "name": "python",
   "nbconvert_exporter": "python",
   "pygments_lexer": "ipython3",
   "version": "3.10.14"
  }
 },
 "nbformat": 4,
 "nbformat_minor": 5
}
