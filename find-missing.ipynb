{
 "cells": [
  {
   "cell_type": "code",
   "execution_count": null,
   "metadata": {},
   "outputs": [],
   "source": [
    "import os\n",
    "\n",
    "for d in os.listdir(os.path.join(os.getcwd(), \"data\",\"unzipped\")):\n",
    "    data_dir = \"data\"\n",
    "    model_dir = \"model\"\n",
    "    data_dir_files = os.listdir(os.path.join(os.getcwd(), \"data\",\"unzipped\", d, data_dir))\n",
    "    data_files_stripped = [int(f[4:-4]) for f in data_dir_files]\n",
    "    model_dir_files = os.listdir(os.path.join(os.getcwd(), \"data\",\"unzipped\", d, model_dir))\n",
    "    model_files_stripped = [int(f[5:-4]) for f in model_dir_files]\n",
    "    \n",
    "    if (len(data_files_stripped) != max(data_files_stripped)):\n",
    "        correct_data_files = list(range(1,max(data_files_stripped)))\n",
    "        missing_data_files = [f for f in correct_data_files if f not in data_files_stripped]\n",
    "        print(missing_data_files)\n",
    "        print(d, \"data\")\n",
    "    if (len(model_files_stripped) != max(model_files_stripped)):\n",
    "        correct_model_files = list(range(1,max(model_files_stripped)))\n",
    "        missing_model_files = [f for f in correct_model_files if f not in model_files_stripped]\n",
    "        print(missing_model_files)\n",
    "        print(d, \"model\")\n",
    "\n",
    "print(\"Note: Fault files not processed yet.\")"
   ]
  }
 ],
 "metadata": {
  "kernelspec": {
   "display_name": "ML",
   "language": "python",
   "name": "python3"
  },
  "language_info": {
   "codemirror_mode": {
    "name": "ipython",
    "version": 3
   },
   "file_extension": ".py",
   "mimetype": "text/x-python",
   "name": "python",
   "nbconvert_exporter": "python",
   "pygments_lexer": "ipython3",
   "version": "3.10.12"
  }
 },
 "nbformat": 4,
 "nbformat_minor": 2
}
