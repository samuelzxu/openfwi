{
 "cells": [
  {
   "cell_type": "code",
   "execution_count": 1,
   "metadata": {},
   "outputs": [
    {
     "data": {
      "text/plain": [
       "470000"
      ]
     },
     "execution_count": 1,
     "metadata": {},
     "output_type": "execute_result"
    }
   ],
   "source": [
    "from sklearn.model_selection import train_test_split\n",
    "import pandas as pd\n",
    "\n",
    "data = pd.read_csv('split_files/generated_ds.csv')\n",
    "len(data)"
   ]
  },
  {
   "cell_type": "code",
   "execution_count": 2,
   "metadata": {},
   "outputs": [
    {
     "data": {
      "text/html": [
       "<div>\n",
       "<style scoped>\n",
       "    .dataframe tbody tr th:only-of-type {\n",
       "        vertical-align: middle;\n",
       "    }\n",
       "\n",
       "    .dataframe tbody tr th {\n",
       "        vertical-align: top;\n",
       "    }\n",
       "\n",
       "    .dataframe thead th {\n",
       "        text-align: right;\n",
       "    }\n",
       "</style>\n",
       "<table border=\"1\" class=\"dataframe\">\n",
       "  <thead>\n",
       "    <tr style=\"text-align: right;\">\n",
       "      <th></th>\n",
       "      <th>id</th>\n",
       "      <th>absolute_x_path</th>\n",
       "      <th>absolute_y_path</th>\n",
       "    </tr>\n",
       "  </thead>\n",
       "  <tbody>\n",
       "    <tr>\n",
       "      <th>0</th>\n",
       "      <td>Style_A/26/392</td>\n",
       "      <td>/home/ziggy/dev/openfwi_unpacked/Style_A/26/39...</td>\n",
       "      <td>/home/ziggy/dev/openfwi_unpacked/Style_A/26/39...</td>\n",
       "    </tr>\n",
       "    <tr>\n",
       "      <th>1</th>\n",
       "      <td>Style_A/26/26</td>\n",
       "      <td>/home/ziggy/dev/openfwi_unpacked/Style_A/26/26...</td>\n",
       "      <td>/home/ziggy/dev/openfwi_unpacked/Style_A/26/26...</td>\n",
       "    </tr>\n",
       "    <tr>\n",
       "      <th>2</th>\n",
       "      <td>Style_A/26/386</td>\n",
       "      <td>/home/ziggy/dev/openfwi_unpacked/Style_A/26/38...</td>\n",
       "      <td>/home/ziggy/dev/openfwi_unpacked/Style_A/26/38...</td>\n",
       "    </tr>\n",
       "    <tr>\n",
       "      <th>3</th>\n",
       "      <td>Style_A/26/79</td>\n",
       "      <td>/home/ziggy/dev/openfwi_unpacked/Style_A/26/79...</td>\n",
       "      <td>/home/ziggy/dev/openfwi_unpacked/Style_A/26/79...</td>\n",
       "    </tr>\n",
       "    <tr>\n",
       "      <th>4</th>\n",
       "      <td>Style_A/26/308</td>\n",
       "      <td>/home/ziggy/dev/openfwi_unpacked/Style_A/26/30...</td>\n",
       "      <td>/home/ziggy/dev/openfwi_unpacked/Style_A/26/30...</td>\n",
       "    </tr>\n",
       "  </tbody>\n",
       "</table>\n",
       "</div>"
      ],
      "text/plain": [
       "               id                                    absolute_x_path  \\\n",
       "0  Style_A/26/392  /home/ziggy/dev/openfwi_unpacked/Style_A/26/39...   \n",
       "1   Style_A/26/26  /home/ziggy/dev/openfwi_unpacked/Style_A/26/26...   \n",
       "2  Style_A/26/386  /home/ziggy/dev/openfwi_unpacked/Style_A/26/38...   \n",
       "3   Style_A/26/79  /home/ziggy/dev/openfwi_unpacked/Style_A/26/79...   \n",
       "4  Style_A/26/308  /home/ziggy/dev/openfwi_unpacked/Style_A/26/30...   \n",
       "\n",
       "                                     absolute_y_path  \n",
       "0  /home/ziggy/dev/openfwi_unpacked/Style_A/26/39...  \n",
       "1  /home/ziggy/dev/openfwi_unpacked/Style_A/26/26...  \n",
       "2  /home/ziggy/dev/openfwi_unpacked/Style_A/26/38...  \n",
       "3  /home/ziggy/dev/openfwi_unpacked/Style_A/26/79...  \n",
       "4  /home/ziggy/dev/openfwi_unpacked/Style_A/26/30...  "
      ]
     },
     "execution_count": 2,
     "metadata": {},
     "output_type": "execute_result"
    }
   ],
   "source": [
    "data.head()"
   ]
  },
  {
   "cell_type": "code",
   "execution_count": 3,
   "metadata": {},
   "outputs": [],
   "source": [
    "data['strata'] = data['id'].apply(lambda x: x.split('/')[0])"
   ]
  },
  {
   "cell_type": "code",
   "execution_count": 4,
   "metadata": {},
   "outputs": [
    {
     "data": {
      "text/plain": [
       "strata\n",
       "Style_A         67000\n",
       "Style_B         67000\n",
       "CurveFault_A    54000\n",
       "CurveFault_B    54000\n",
       "FlatFault_A     54000\n",
       "FlatFault_B     54000\n",
       "CurveVel_A      30000\n",
       "CurveVel_B      30000\n",
       "FlatVel_A       30000\n",
       "FlatVel_B       30000\n",
       "Name: count, dtype: int64"
      ]
     },
     "execution_count": 4,
     "metadata": {},
     "output_type": "execute_result"
    }
   ],
   "source": [
    "data.value_counts('strata')"
   ]
  },
  {
   "cell_type": "code",
   "execution_count": 5,
   "metadata": {},
   "outputs": [
    {
     "name": "stdout",
     "output_type": "stream",
     "text": [
      "446500 23500\n"
     ]
    }
   ],
   "source": [
    "train, val = train_test_split(data, test_size=0.05, random_state=42, stratify=data['strata'])\n",
    "print(len(train), len(val))"
   ]
  },
  {
   "cell_type": "code",
   "execution_count": 6,
   "metadata": {},
   "outputs": [],
   "source": [
    "train.to_csv('split_files/train_ds.csv', index=False)\n",
    "val.to_csv('split_files/val_ds.csv', index=False)"
   ]
  }
 ],
 "metadata": {
  "kernelspec": {
   "display_name": "aimo",
   "language": "python",
   "name": "python3"
  },
  "language_info": {
   "codemirror_mode": {
    "name": "ipython",
    "version": 3
   },
   "file_extension": ".py",
   "mimetype": "text/x-python",
   "name": "python",
   "nbconvert_exporter": "python",
   "pygments_lexer": "ipython3",
   "version": "3.10.14"
  }
 },
 "nbformat": 4,
 "nbformat_minor": 2
}
