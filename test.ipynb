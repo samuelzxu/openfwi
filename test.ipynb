{
 "cells": [
  {
   "cell_type": "code",
   "execution_count": null,
   "id": "a6821946",
   "metadata": {},
   "outputs": [],
   "source": [
    "import os\n",
    "\n",
    "data_dir = '/home/ziggy/dev/openfwi_unpacked'\n",
    "files = os.listdir(data_dir)\n",
    "print(len(files))"
   ]
  },
  {
   "cell_type": "code",
   "execution_count": null,
   "id": "d1040588",
   "metadata": {},
   "outputs": [],
   "source": [
    "files"
   ]
  },
  {
   "cell_type": "code",
   "execution_count": null,
   "id": "9cc5f5dd",
   "metadata": {},
   "outputs": [],
   "source": [
    "import numpy as np\n",
    "velocity = np.load('/home/ziggy/dev/openfwi_unpacked/CurveFault_A/217/0/y.npy')\n",
    "data = np.load('/home/ziggy/dev/openfwi_unpacked/CurveFault_A/217/0/x.npy')"
   ]
  },
  {
   "cell_type": "code",
   "execution_count": null,
   "id": "47324c40",
   "metadata": {},
   "outputs": [],
   "source": [
    "from matplotlib.colors import ListedColormap\n",
    "import matplotlib.pyplot as plt\n",
    "fig, ax = plt.subplots(1, 1, figsize=(11, 5))\n",
    "img=ax.imshow(velocity[:,:],cmap='jet')\n",
    "ax.set_xticks(range(0, 70, 10))\n",
    "ax.set_xticklabels(range(0, 700, 100))\n",
    "ax.set_yticks(range(0, 70, 10))\n",
    "ax.set_yticklabels(range(0, 700, 100))\n",
    "ax.set_ylabel('Depth (m)', fontsize=12)\n",
    "ax.set_xlabel('Offset (m)', fontsize=12)\n",
    "clb=plt.colorbar(img, ax=ax)\n",
    "clb.ax.set_title('km/s',fontsize=8)\n",
    "plt.show()"
   ]
  },
  {
   "cell_type": "code",
   "execution_count": null,
   "id": "9fcabc5b",
   "metadata": {},
   "outputs": [],
   "source": [
    "fig,ax=plt.subplots(1,5,figsize=(20,5))\n",
    "ax[0].imshow(data[0,:,:],extent=[0,70,1000,0],aspect='auto',cmap='gray',vmin=-0.5,vmax=0.5)\n",
    "ax[1].imshow(data[1,:,:],extent=[0,70,1000,0],aspect='auto',cmap='gray',vmin=-0.5,vmax=0.5)\n",
    "ax[2].imshow(data[2,:,:],extent=[0,70,1000,0],aspect='auto',cmap='gray',vmin=-0.5,vmax=0.5)\n",
    "ax[3].imshow(data[3,:,:],extent=[0,70,1000,0],aspect='auto',cmap='gray',vmin=-0.5,vmax=0.5)\n",
    "ax[4].imshow(data[4,:,:],extent=[0,70,1000,0],aspect='auto',cmap='gray',vmin=-0.5,vmax=0.5)\n",
    "for axis in ax:\n",
    "   axis.set_xticks(range(0, 70, 10))\n",
    "   axis.set_xticklabels(range(0, 700, 100))\n",
    "   axis.set_yticks(range(0, 2000, 1000))\n",
    "   axis.set_yticklabels(range(0, 2,1))\n",
    "   axis.set_ylabel('Time (s)', fontsize=12)\n",
    "   axis.set_xlabel('Offset (m)', fontsize=12)\n",
    "plt.show()"
   ]
  },
  {
   "cell_type": "code",
   "execution_count": null,
   "id": "80525c21",
   "metadata": {},
   "outputs": [],
   "source": [
    "all_data = list(os.walk(data_dir))"
   ]
  },
  {
   "cell_type": "code",
   "execution_count": null,
   "id": "c8ba271e",
   "metadata": {},
   "outputs": [],
   "source": [
    "len(all_data)"
   ]
  },
  {
   "cell_type": "code",
   "execution_count": null,
   "id": "fdba2e78",
   "metadata": {},
   "outputs": [],
   "source": [
    "data_file_tups = list(filter(lambda x: len(x[2]) == 2 and x[2][0].endswith('.npy'), all_data))"
   ]
  },
  {
   "cell_type": "code",
   "execution_count": null,
   "id": "4c38b854",
   "metadata": {},
   "outputs": [],
   "source": [
    "len(data_file_tups)"
   ]
  },
  {
   "cell_type": "code",
   "execution_count": null,
   "id": "e0aea781",
   "metadata": {},
   "outputs": [],
   "source": [
    "from tqdm import tqdm\n",
    "import numpy as np\n",
    "def test_load_data(data_dir, data_files):\n",
    "    assert len(data_files) == 2\n",
    "    assert np.load(os.path.join(data_dir, data_files[0])).shape == (70, 70)\n",
    "    assert np.load(os.path.join(data_dir, data_files[1])).shape == (5, 1000, 70)\n",
    "    return True\n",
    "\n",
    "for data_file_tup in tqdm(data_file_tups):\n",
    "    data_dir = data_file_tup[0]\n",
    "    data_files = data_file_tup[2]\n",
    "    assert test_load_data(data_dir, data_files)\n",
    "\n",
    "\n"
   ]
  },
  {
   "cell_type": "code",
   "execution_count": null,
   "id": "dc37fbc4",
   "metadata": {},
   "outputs": [],
   "source": []
  }
 ],
 "metadata": {
  "kernelspec": {
   "display_name": "aimo",
   "language": "python",
   "name": "python3"
  },
  "language_info": {
   "codemirror_mode": {
    "name": "ipython",
    "version": 3
   },
   "file_extension": ".py",
   "mimetype": "text/x-python",
   "name": "python",
   "nbconvert_exporter": "python",
   "pygments_lexer": "ipython3",
   "version": "3.10.14"
  }
 },
 "nbformat": 4,
 "nbformat_minor": 5
}
