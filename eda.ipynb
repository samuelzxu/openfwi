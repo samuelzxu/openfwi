{
 "cells": [
  {
   "cell_type": "code",
   "execution_count": 4,
   "metadata": {},
   "outputs": [],
   "source": [
    "import os\n",
    "\n",
    "root_dir = os.path.join('data','unzipped')\n",
    "data_types = ['CurveVel_A',\n",
    " 'CurveFault_A',\n",
    " 'Style_A',\n",
    " 'FlatVel_B',\n",
    " 'FlatFault_B',\n",
    " 'CurveVel_B',\n",
    " 'Style_B',\n",
    " 'CurveFault_B',\n",
    " 'FlatVel_A',\n",
    " 'FlatFault_A']"
   ]
  },
  {
   "cell_type": "code",
   "execution_count": 18,
   "metadata": {},
   "outputs": [
    {
     "name": "stdout",
     "output_type": "stream",
     "text": [
      "Data split into 4500 chunks and saved in data/split_example\n",
      "Average time to load a single chunk: 0.000737 seconds\n"
     ]
    }
   ],
   "source": [
    "import numpy as np\n",
    "import time\n",
    "# Each of these files are batches of 500 along the first dimension.\n",
    "# Let's split up the data into 500 chunks and see how much time it takes to load each chunk.\n",
    "\n",
    "ex_dir = '/Users/samuelxu/dev/OpenFWI/data/unzipped/CurveVel_A'\n",
    "exs_x = [f'{ex_dir}/data/data{i}.npy' for i in range(1, 10)]\n",
    "exs_y = [f'{ex_dir}/model/model{i}.npy' for i in range(1, 10)]\n",
    "\n",
    "# Load the data\n",
    "x = np.concatenate([np.load(ex_x) for ex_x in exs_x])\n",
    "y = np.concatenate([np.load(ex_y) for ex_y in exs_y])\n",
    "\n",
    "split_dir = \"data/split_example\"\n",
    "os.makedirs(split_dir, exist_ok=True)\n",
    "\n",
    "# Split the data into 500 chunks\n",
    "chunk_size = 1\n",
    "num_chunks = x.shape[0] // chunk_size\n",
    "\n",
    "# Save each chunk as a separate .npy file\n",
    "for i in range(num_chunks):\n",
    "    chunk_x = x[i*chunk_size:(i+1)*chunk_size]\n",
    "    chunk_y = y[i*chunk_size:(i+1)*chunk_size]\n",
    "    \n",
    "    # Create a directory for this chunk if it doesn't exist\n",
    "    chunk_dir = os.path.join(split_dir, f'chunk_{i}')\n",
    "    os.makedirs(chunk_dir, exist_ok=True)\n",
    "    \n",
    "    # Save the chunk data\n",
    "    np.save(os.path.join(chunk_dir, 'data.npy'), chunk_x)\n",
    "    np.save(os.path.join(chunk_dir, 'model.npy'), chunk_y)\n",
    "\n",
    "print(f\"Data split into {num_chunks} chunks and saved in {split_dir}\")\n",
    "\n",
    "# test loading time for each chunk\n",
    "chunk_load_times = []\n",
    "for i in range(num_chunks):\n",
    "    chunk_dir = os.path.join(split_dir, f'chunk_{i}')\n",
    "    start_time = time.time()\n",
    "    chunk_x = np.load(os.path.join(chunk_dir, 'data.npy'))\n",
    "    chunk_y = np.load(os.path.join(chunk_dir, 'model.npy'))\n",
    "    end_time = time.time()\n",
    "    chunk_load_times.append(end_time - start_time)\n",
    "\n",
    "print(f\"Average time to load a single chunk: {np.mean(chunk_load_times):.6f} seconds\")"
   ]
  },
  {
   "cell_type": "code",
   "execution_count": 19,
   "metadata": {},
   "outputs": [
    {
     "name": "stdout",
     "output_type": "stream",
     "text": [
      "Total size of all chunks: 6093.36 MB\n",
      "Size of original files: 6092.26 MB\n"
     ]
    }
   ],
   "source": [
    "# Compare size of all chunks vs original two files\n",
    "chunk_sizes = []\n",
    "for i in range(num_chunks):\n",
    "    chunk_dir = os.path.join(split_dir, f'chunk_{i}')\n",
    "    chunk_size = os.path.getsize(os.path.join(chunk_dir, 'data.npy')) + os.path.getsize(os.path.join(chunk_dir, 'model.npy'))\n",
    "    chunk_sizes.append(chunk_size)\n",
    "\n",
    "print(f\"Total size of all chunks: {sum(chunk_sizes) / (1024 * 1024):.2f} MB\")\n",
    "print(f\"Size of original files: {sum(os.path.getsize(ex_x) + os.path.getsize(ex_y) for ex_x, ex_y in zip(exs_x, exs_y)) / (1024 * 1024):.2f} MB\")"
   ]
  }
 ],
 "metadata": {
  "kernelspec": {
   "display_name": "ML",
   "language": "python",
   "name": "python3"
  },
  "language_info": {
   "codemirror_mode": {
    "name": "ipython",
    "version": 3
   },
   "file_extension": ".py",
   "mimetype": "text/x-python",
   "name": "python",
   "nbconvert_exporter": "python",
   "pygments_lexer": "ipython3",
   "version": "3.10.12"
  }
 },
 "nbformat": 4,
 "nbformat_minor": 2
}
