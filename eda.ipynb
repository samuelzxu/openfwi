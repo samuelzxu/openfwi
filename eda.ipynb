{
 "cells": [
  {
   "cell_type": "code",
   "execution_count": 3,
   "metadata": {},
   "outputs": [
    {
     "name": "stdout",
     "output_type": "stream",
     "text": [
      "CurveFault_A  CurveVel_A  FlatFault_A  FlatVel_A  README.md  Style_B\n",
      "CurveFault_B  CurveVel_B  FlatFault_B  FlatVel_B  Style_A\n"
     ]
    }
   ],
   "source": [
    "!ls /mnt/datasets/openfwi"
   ]
  },
  {
   "cell_type": "code",
   "execution_count": null,
   "metadata": {},
   "outputs": [],
   "source": []
  },
  {
   "cell_type": "code",
   "execution_count": 9,
   "metadata": {},
   "outputs": [],
   "source": [
    "import os\n",
    "\n",
    "root_dir = os.path.join('mnt', 'datasets', 'openfwi')\n",
    "data_types = ['CurveVel_A',\n",
    " 'CurveFault_A',\n",
    " 'Style_A',\n",
    " 'FlatVel_B',\n",
    " 'FlatFault_B',\n",
    " 'CurveVel_B',\n",
    " 'Style_B',\n",
    " 'CurveFault_B',\n",
    " 'FlatVel_A',\n",
    " 'FlatFault_A']"
   ]
  },
  {
   "cell_type": "code",
   "execution_count": 7,
   "metadata": {},
   "outputs": [
    {
     "name": "stdout",
     "output_type": "stream",
     "text": [
      "Loading data from /mnt/datasets/openfwi/CurveVel_A\n",
      "Splitting data into 4500 chunks of size 1\n"
     ]
    },
    {
     "name": "stderr",
     "output_type": "stream",
     "text": [
      "100%|██████████| 4500/4500 [00:02<00:00, 2226.01it/s]\n"
     ]
    },
    {
     "name": "stdout",
     "output_type": "stream",
     "text": [
      "Data split into 4500 chunks and saved in data/split_example\n"
     ]
    },
    {
     "name": "stderr",
     "output_type": "stream",
     "text": [
      "100%|██████████| 4500/4500 [00:00<00:00, 5205.81it/s]"
     ]
    },
    {
     "name": "stdout",
     "output_type": "stream",
     "text": [
      "Average time to load a single chunk: 0.000189 seconds\n"
     ]
    },
    {
     "name": "stderr",
     "output_type": "stream",
     "text": [
      "\n"
     ]
    }
   ],
   "source": [
    "import numpy as np\n",
    "import time\n",
    "from tqdm import tqdm\n",
    "# Each of these files are batches of 500 along the first dimension.\n",
    "# Let's split up the data into 500 chunks and see how much time it takes to load each chunk.\n",
    "\n",
    "ex_dir = '/mnt/datasets/openfwi/CurveVel_A'\n",
    "\n",
    "print(f\"Loading data from {ex_dir}\")\n",
    "exs_x = [f'{ex_dir}/data/data{i}.npy' for i in range(1, 10)]\n",
    "exs_y = [f'{ex_dir}/model/model{i}.npy' for i in range(1, 10)]\n",
    "\n",
    "# Load the data\n",
    "x = np.concatenate([np.load(ex_x) for ex_x in exs_x])\n",
    "y = np.concatenate([np.load(ex_y) for ex_y in exs_y])\n",
    "\n",
    "split_dir = \"data/split_example\"\n",
    "os.makedirs(split_dir, exist_ok=True)\n",
    "\n",
    "# Split the data into 500 chunks\n",
    "chunk_size = 1\n",
    "num_chunks = x.shape[0] // chunk_size\n",
    "\n",
    "print(f\"Splitting data into {num_chunks} chunks of size {chunk_size}\")\n",
    "\n",
    "# Save each chunk as a separate .npy file\n",
    "for i in tqdm(range(num_chunks)):\n",
    "    chunk_x = x[i*chunk_size:(i+1)*chunk_size]\n",
    "    chunk_y = y[i*chunk_size:(i+1)*chunk_size]\n",
    "    \n",
    "    # Create a directory for this chunk if it doesn't exist\n",
    "    chunk_dir = os.path.join(split_dir, f'chunk_{i}')\n",
    "    os.makedirs(chunk_dir, exist_ok=True)\n",
    "    \n",
    "    # Save the chunk data\n",
    "    np.save(os.path.join(chunk_dir, 'data.npy'), chunk_x)\n",
    "    np.save(os.path.join(chunk_dir, 'model.npy'), chunk_y)\n",
    "\n",
    "print(f\"Data split into {num_chunks} chunks and saved in {split_dir}\")\n",
    "\n",
    "# test loading time for each chunk\n",
    "chunk_load_times = []\n",
    "for i in tqdm(range(num_chunks)):\n",
    "    chunk_dir = os.path.join(split_dir, f'chunk_{i}')\n",
    "    start_time = time.time()\n",
    "    chunk_x = np.load(os.path.join(chunk_dir, 'data.npy'))\n",
    "    chunk_y = np.load(os.path.join(chunk_dir, 'model.npy'))\n",
    "    end_time = time.time()\n",
    "    chunk_load_times.append(end_time - start_time)\n",
    "\n",
    "print(f\"Average time to load a single chunk: {np.mean(chunk_load_times):.6f} seconds\")"
   ]
  },
  {
   "cell_type": "code",
   "execution_count": 8,
   "metadata": {},
   "outputs": [
    {
     "name": "stdout",
     "output_type": "stream",
     "text": [
      "Total size of all chunks: 6093.36 MB\n",
      "Size of original files: 6092.26 MB\n"
     ]
    }
   ],
   "source": [
    "# Compare size of all chunks vs original two files\n",
    "chunk_sizes = []\n",
    "for i in range(num_chunks):\n",
    "    chunk_dir = os.path.join(split_dir, f'chunk_{i}')\n",
    "    chunk_size = os.path.getsize(os.path.join(chunk_dir, 'data.npy')) + os.path.getsize(os.path.join(chunk_dir, 'model.npy'))\n",
    "    chunk_sizes.append(chunk_size)\n",
    "\n",
    "print(f\"Total size of all chunks: {sum(chunk_sizes) / (1024 * 1024):.2f} MB\")\n",
    "print(f\"Size of original files: {sum(os.path.getsize(ex_x) + os.path.getsize(ex_y) for ex_x, ex_y in zip(exs_x, exs_y)) / (1024 * 1024):.2f} MB\")"
   ]
  },
  {
   "cell_type": "code",
   "execution_count": 12,
   "metadata": {},
   "outputs": [
    {
     "data": {
      "text/plain": [
       "((5, 1000, 70), (70, 70))"
      ]
     },
     "execution_count": 12,
     "metadata": {},
     "output_type": "execute_result"
    }
   ],
   "source": [
    "chunk_x.squeeze().shape, chunk_y.squeeze().shape"
   ]
  },
  {
   "cell_type": "code",
   "execution_count": 10,
   "metadata": {},
   "outputs": [],
   "source": [
    "!rm -rf data/split_example"
   ]
  },
  {
   "cell_type": "code",
   "execution_count": null,
   "metadata": {},
   "outputs": [
    {
     "ename": "FileNotFoundError",
     "evalue": "[Errno 2] No such file or directory: '/mnt/datasets/openfwi/CurveFault_A/'",
     "output_type": "error",
     "traceback": [
      "\u001b[0;31m---------------------------------------------------------------------------\u001b[0m",
      "\u001b[0;31mFileNotFoundError\u001b[0m                         Traceback (most recent call last)",
      "Cell \u001b[0;32mIn[21], line 1\u001b[0m\n\u001b[0;32m----> 1\u001b[0m fault_files \u001b[38;5;241m=\u001b[39m [(x, x\u001b[38;5;241m.\u001b[39msplit(\u001b[38;5;124m'\u001b[39m\u001b[38;5;124m_\u001b[39m\u001b[38;5;124m'\u001b[39m)[\u001b[38;5;241m-\u001b[39m\u001b[38;5;241m1\u001b[39m]\u001b[38;5;241m.\u001b[39msplit(\u001b[38;5;124m'\u001b[39m\u001b[38;5;124m.\u001b[39m\u001b[38;5;124m'\u001b[39m)[\u001b[38;5;241m0\u001b[39m]) \u001b[38;5;28;01mfor\u001b[39;00m x \u001b[38;5;129;01min\u001b[39;00m \u001b[43mos\u001b[49m\u001b[38;5;241;43m.\u001b[39;49m\u001b[43mlistdir\u001b[49m\u001b[43m(\u001b[49m\u001b[38;5;124;43m'\u001b[39;49m\u001b[38;5;124;43m/mnt/datasets/openfwi/CurveFault_A/\u001b[39;49m\u001b[38;5;124;43m'\u001b[39;49m\u001b[43m)\u001b[49m]\n\u001b[1;32m      2\u001b[0m fault_files \u001b[38;5;241m=\u001b[39m \u001b[38;5;28msorted\u001b[39m(fault_files, key\u001b[38;5;241m=\u001b[39m\u001b[38;5;28;01mlambda\u001b[39;00m x: \u001b[38;5;28mint\u001b[39m(x[\u001b[38;5;241m1\u001b[39m]))\n\u001b[1;32m      4\u001b[0m \u001b[38;5;28mprint\u001b[39m(fault_files[:\u001b[38;5;241m10\u001b[39m])\n",
      "\u001b[0;31mFileNotFoundError\u001b[0m: [Errno 2] No such file or directory: '/mnt/datasets/openfwi/CurveFault_A/'"
     ]
    }
   ],
   "source": [
    "fault_files = [(x, x.split('_')[-1].split('.')[0]) for x in os.listdir('/mnt/datasets/openfwi/CurveFault_A/')]\n",
    "fault_files = sorted(fault_files, key=lambda x: int(x[1]))\n",
    "\n",
    "print(fault_files[:10])\n",
    "\n",
    "reg_files = [(x, x.split('.')[0][4:]) for x in os.listdir('/mnt/datasets/openfwi/CurveVel_A/data/')]\n",
    "reg_files = sorted(reg_files, key=lambda x: int(x[1]))\n",
    "\n",
    "print(reg_files[:10])"
   ]
  },
  {
   "cell_type": "code",
   "execution_count": null,
   "metadata": {},
   "outputs": [],
   "source": [
    "# Let's split all the data into chunks, identified by the current filename prefixed by the data type, and save them in a directory\n",
    "\n",
    "data_dir = 'data/openfwi_unpacked'\n",
    "\n",
    "def create_data_id(data_type, file_name):\n",
    "    # Create a unique identifier for the data based on the data type and file name\n",
    "    return f\"{data_type}_{os.path.basename(file_name).split('.')[0]}\"\n",
    "def save_data_chunks(data_dir, data_types, root_dir):\n",
    "    os.makedirs(data_dir, exist_ok=True)\n",
    "    for data_type in data_types:\n",
    "        ex_dir = os.path.join(root_dir, data_type)\n",
    "        if 'Fault' in data_type:\n",
    "            all_filenames = os.listdir(ex_dir)\n",
    "            exs_x = sorted([os.path.join(ex_dir, f) for f in all_filenames if 'seis' in f])\n",
    "            exs_y = sorted([os.path.join(ex_dir, f) for f in all_filenames if 'vel' in f])\n",
    "        else:\n",
    "            num_files = len(os.listdir(f'{ex_dir}/data'))\n",
    "            exs_x = [f'{ex_dir}/data/data{i}.npy' for i in range(num_files)]\n",
    "            exs_y = [f'{ex_dir}/model/model{i}.npy' for i in range(num_files)]\n",
    "\n",
    "        # Load the data\n",
    "        x = np.concatenate([np.load(ex_x) for ex_x in exs_x])\n",
    "        y = np.concatenate([np.load(ex_y) for ex_y in exs_y])\n",
    "\n",
    "        # Split the data into 500 chunks\n",
    "        chunk_size = 1\n",
    "        num_chunks = x.shape[0] // chunk_size\n",
    "\n",
    "        # Save each chunk as a separate .npy file\n",
    "        for i in tqdm(range(num_chunks)):\n",
    "            chunk_x = x[i*chunk_size:(i+1)*chunk_size]\n",
    "            chunk_y = y[i*chunk_size:(i+1)*chunk_size]\n",
    "\n",
    "            # Create a directory for this chunk if it doesn't exist\n",
    "            chunk_id = create_data_id(data_type, f'data_{i}')\n",
    "            chunk_dir = os.path.join(data_dir, chunk_id)\n",
    "            os.makedirs(chunk_dir, exist_ok=True)\n",
    "\n",
    "            # Save the chunk data\n",
    "            np.save(os.path.join(chunk_dir, 'data.npy'), chunk_x)\n",
    "            np.save(os.path.join(chunk_dir, 'model.npy'), chunk_y)\n",
    "    "
   ]
  },
  {
   "cell_type": "code",
   "execution_count": null,
   "metadata": {},
   "outputs": [],
   "source": []
  }
 ],
 "metadata": {
  "kernelspec": {
   "display_name": "aimo",
   "language": "python",
   "name": "python3"
  },
  "language_info": {
   "codemirror_mode": {
    "name": "ipython",
    "version": 3
   },
   "file_extension": ".py",
   "mimetype": "text/x-python",
   "name": "python",
   "nbconvert_exporter": "python",
   "pygments_lexer": "ipython3",
   "version": "3.10.14"
  }
 },
 "nbformat": 4,
 "nbformat_minor": 2
}
